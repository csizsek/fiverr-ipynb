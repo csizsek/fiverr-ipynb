{
 "cells": [
  {
   "cell_type": "code",
   "execution_count": 5,
   "metadata": {
    "collapsed": false
   },
   "outputs": [
    {
     "name": "stdout",
     "output_type": "stream",
     "text": [
      "Populating the interactive namespace from numpy and matplotlib\n"
     ]
    }
   ],
   "source": [
    "import pandas as pd\n",
    "from pandas import Series, DataFrame\n",
    "import numpy as np\n",
    "from matplotlib import pyplot as plt\n",
    "import json \n",
    "import ast\n",
    "%pylab inline"
   ]
  },
  {
   "cell_type": "code",
   "execution_count": 6,
   "metadata": {
    "collapsed": true
   },
   "outputs": [],
   "source": [
    "d = pd.read_csv('fiverrUsersPic_analyze_with_projectposition_Animation_and_3D.csv', sep='\\t', index_col=0)"
   ]
  },
  {
   "cell_type": "code",
   "execution_count": 7,
   "metadata": {
    "collapsed": false
   },
   "outputs": [
    {
     "name": "stdout",
     "output_type": "stream",
     "text": [
      "<class 'pandas.core.frame.DataFrame'>\n",
      "Int64Index: 28282 entries, 0 to 28281\n",
      "Data columns (total 32 columns):\n",
      "user_id                           28282 non-null object\n",
      "gender                            28282 non-null object\n",
      "gender_confidence                 28282 non-null float64\n",
      "race                              28282 non-null object\n",
      "race_confidence                   28282 non-null float64\n",
      "age_value                         28282 non-null int64\n",
      "age_range                         28282 non-null int64\n",
      "smiling                           28282 non-null float64\n",
      "category                          28282 non-null object\n",
      "position                          28282 non-null object\n",
      "url                               12285 non-null object\n",
      "gig_categories                    3016 non-null object\n",
      "languages                         27842 non-null object\n",
      "overall_rating                    28282 non-null float64\n",
      "num_reviews                       28282 non-null int64\n",
      "num_projects                      28282 non-null int64\n",
      "country                           28270 non-null object\n",
      "user_level                        1855 non-null object\n",
      "avg_response                      4935 non-null object\n",
      "verified-e_mail                   28282 non-null bool\n",
      "verified_twitter                  28282 non-null bool\n",
      "verified_googleplus               28282 non-null bool\n",
      "verified_facebook                 28282 non-null bool\n",
      "verified_linkdin                  28282 non-null bool\n",
      "member_since                      28262 non-null object\n",
      "recent_delivery                   0 non-null float64\n",
      "profile_image_url                 28282 non-null object\n",
      "gig_subcategories                 3016 non-null object\n",
      "about                             7600 non-null object\n",
      "position_on_screen_high_rating    28282 non-null object\n",
      "position_on_screen_recommended    28282 non-null object\n",
      "position_on_screen_new            28282 non-null object\n",
      "dtypes: bool(5), float64(5), int64(4), object(18)"
     ]
    }
   ],
   "source": [
    "d.info()"
   ]
  },
  {
   "cell_type": "code",
   "execution_count": 8,
   "metadata": {
    "collapsed": false
   },
   "outputs": [
    {
     "data": {
      "text/plain": [
       "0    {2835755: 1}\n",
       "1              {}\n",
       "2              {}\n",
       "3              {}\n",
       "4              {}\n",
       "Name: position_on_screen_high_rating, dtype: object"
      ]
     },
     "execution_count": 8,
     "metadata": {},
     "output_type": "execute_result"
    }
   ],
   "source": [
    "# this is what the dictionaries look like\n",
    "d[pd.notnull(d.position_on_screen_high_rating)][:5]['position_on_screen_high_rating']"
   ]
  },
  {
   "cell_type": "code",
   "execution_count": 9,
   "metadata": {
    "collapsed": false
   },
   "outputs": [],
   "source": [
    "# For every user we calculate the average position of their tasks in the file\n",
    "def process_dict(dict_str):\n",
    "    d = ast.literal_eval(dict_str)\n",
    "    if d != {}:\n",
    "        a = [d[k] for k in d.keys() if d[k] != None]\n",
    "        if a == []: \n",
    "            avg = 0\n",
    "        else: \n",
    "            avg = float(sum(a))#/float(len(a))\n",
    "    else:\n",
    "        avg = -1\n",
    "    return avg"
   ]
  },
  {
   "cell_type": "code",
   "execution_count": 10,
   "metadata": {
    "collapsed": false
   },
   "outputs": [],
   "source": [
    "# We create new variables with this average as 3 more columns\n",
    "d['position_on_screen_high_rating_avg'] = d.position_on_screen_high_rating.apply(process_dict)\n",
    "d['position_on_screen_recommended_avg'] = d.position_on_screen_recommended.apply(process_dict)\n",
    "d['position_on_screen_new_avg'] = d.position_on_screen_new.apply(process_dict)\n"
   ]
  },
  {
   "cell_type": "code",
   "execution_count": 11,
   "metadata": {
    "collapsed": false
   },
   "outputs": [
    {
     "data": {
      "text/html": [
       "<div style=\"max-height:1000px;max-width:1500px;overflow:auto;\">\n",
       "<table border=\"1\" class=\"dataframe\">\n",
       "  <thead>\n",
       "    <tr style=\"text-align: right;\">\n",
       "      <th></th>\n",
       "      <th>0</th>\n",
       "      <th>1</th>\n",
       "      <th>2</th>\n",
       "      <th>3</th>\n",
       "      <th>4</th>\n",
       "    </tr>\n",
       "  </thead>\n",
       "  <tbody>\n",
       "    <tr>\n",
       "      <th>position_on_screen_high_rating</th>\n",
       "      <td>    {2835755: 1}</td>\n",
       "      <td> {}</td>\n",
       "      <td> {}</td>\n",
       "      <td> {}</td>\n",
       "      <td> {}</td>\n",
       "    </tr>\n",
       "    <tr>\n",
       "      <th>position_on_screen_recommended</th>\n",
       "      <td> {2835755: 1769}</td>\n",
       "      <td> {}</td>\n",
       "      <td> {}</td>\n",
       "      <td> {}</td>\n",
       "      <td> {}</td>\n",
       "    </tr>\n",
       "    <tr>\n",
       "      <th>position_on_screen_new</th>\n",
       "      <td>              {}</td>\n",
       "      <td> {}</td>\n",
       "      <td> {}</td>\n",
       "      <td> {}</td>\n",
       "      <td> {}</td>\n",
       "    </tr>\n",
       "    <tr>\n",
       "      <th>position_on_screen_high_rating_avg</th>\n",
       "      <td>               1</td>\n",
       "      <td> -1</td>\n",
       "      <td> -1</td>\n",
       "      <td> -1</td>\n",
       "      <td> -1</td>\n",
       "    </tr>\n",
       "    <tr>\n",
       "      <th>position_on_screen_recommended_avg</th>\n",
       "      <td>            1769</td>\n",
       "      <td> -1</td>\n",
       "      <td> -1</td>\n",
       "      <td> -1</td>\n",
       "      <td> -1</td>\n",
       "    </tr>\n",
       "    <tr>\n",
       "      <th>position_on_screen_new_avg</th>\n",
       "      <td>              -1</td>\n",
       "      <td> -1</td>\n",
       "      <td> -1</td>\n",
       "      <td> -1</td>\n",
       "      <td> -1</td>\n",
       "    </tr>\n",
       "  </tbody>\n",
       "</table>\n",
       "<p>6 rows × 5 columns</p>\n",
       "</div>"
      ],
      "text/plain": [
       "                                                  0   1   2   3   4\n",
       "position_on_screen_high_rating         {2835755: 1}  {}  {}  {}  {}\n",
       "position_on_screen_recommended      {2835755: 1769}  {}  {}  {}  {}\n",
       "position_on_screen_new                           {}  {}  {}  {}  {}\n",
       "position_on_screen_high_rating_avg                1  -1  -1  -1  -1\n",
       "position_on_screen_recommended_avg             1769  -1  -1  -1  -1\n",
       "position_on_screen_new_avg                       -1  -1  -1  -1  -1\n",
       "\n",
       "[6 rows x 5 columns]"
      ]
     },
     "execution_count": 11,
     "metadata": {},
     "output_type": "execute_result"
    }
   ],
   "source": [
    "d.icol(slice(29,35))[:5].T"
   ]
  },
  {
   "cell_type": "code",
   "execution_count": 12,
   "metadata": {
    "collapsed": false
   },
   "outputs": [
    {
     "name": "stdout",
     "output_type": "stream",
     "text": [
      "Number of tasks with a non zero position  a-high-rating, b-recommended, c-new :\n",
      " a,699 b, 948 c, 117\n"
     ]
    }
   ],
   "source": [
    "#number of tasks\n",
    "print \"Number of tasks with a non zero position  a-high-rating, b-recommended, c-new :\\n a,\" + str(len(d.position_on_screen_high_rating_avg[d.position_on_screen_high_rating_avg > 0])) + \" b, \" + str(len(d.position_on_screen_recommended_avg[d.position_on_screen_recommended_avg > 0]))+ \" c, \" + str(len(d.position_on_screen_new_avg[d.position_on_screen_new_avg > 0]))"
   ]
  },
  {
   "cell_type": "code",
   "execution_count": 13,
   "metadata": {
    "collapsed": false
   },
   "outputs": [
    {
     "name": "stdout",
     "output_type": "stream",
     "text": [
      "correlation between recommended and RATING, (high-rating, recommended, new)\n",
      "0.0453647787949\n",
      "0.0848167988259\n",
      "-0.0261783062343\n"
     ]
    }
   ],
   "source": [
    "print \"correlation between recommended and RATING, (high-rating, recommended, new)\"\n",
    "print d.position_on_screen_high_rating_avg[d.position_on_screen_high_rating_avg > 0].corr(d.overall_rating)\n",
    "print d.position_on_screen_recommended_avg[d.position_on_screen_recommended_avg > 0].corr(d.overall_rating)\n",
    "print d.position_on_screen_new_avg[d.position_on_screen_new_avg > 0].corr(d.overall_rating)"
   ]
  },
  {
   "cell_type": "code",
   "execution_count": 14,
   "metadata": {
    "collapsed": false,
    "scrolled": true
   },
   "outputs": [
    {
     "name": "stdout",
     "output_type": "stream",
     "text": [
      "correlation between recommended and NUMBER OF REVIEWS, (high-rating, recommended, new)\n",
      "-0.108719886835\n",
      "0.03041229118\n",
      "0.0419434556467\n"
     ]
    }
   ],
   "source": [
    "print \"correlation between recommended and NUMBER OF REVIEWS, (high-rating, recommended, new)\"\n",
    "print d.position_on_screen_high_rating_avg[d.position_on_screen_high_rating_avg > 0].corr(d.num_reviews)\n",
    "print d.position_on_screen_recommended_avg[d.position_on_screen_recommended_avg > 0].corr(d.num_reviews)\n",
    "print d.position_on_screen_new_avg[d.position_on_screen_new_avg > 0].corr(d.num_reviews)\n"
   ]
  },
  {
   "cell_type": "code",
   "execution_count": 15,
   "metadata": {
    "collapsed": false
   },
   "outputs": [
    {
     "data": {
      "text/plain": [
       "-         22616\n",
       "Male       3977\n",
       "Female     1689\n",
       "dtype: int64"
      ]
     },
     "execution_count": 15,
     "metadata": {},
     "output_type": "execute_result"
    }
   ],
   "source": [
    "d.gender.value_counts()"
   ]
  },
  {
   "cell_type": "code",
   "execution_count": 21,
   "metadata": {
    "collapsed": false
   },
   "outputs": [
    {
     "ename": "ValueError",
     "evalue": "The truth value of a Series is ambiguous. Use a.empty, a.bool(), a.item(), a.any() or a.all().",
     "output_type": "error",
     "traceback": [
      "\u001b[0;31m---------------------------------------------------------------------------\u001b[0m",
      "\u001b[0;31mValueError\u001b[0m                                Traceback (most recent call last)",
      "\u001b[0;32m<ipython-input-21-8ffd48f8175a>\u001b[0m in \u001b[0;36m<module>\u001b[0;34m()\u001b[0m\n\u001b[0;32m----> 1\u001b[0;31m \u001b[0md\u001b[0m\u001b[0;34m.\u001b[0m\u001b[0mposition_on_screen_high_rating_avg\u001b[0m\u001b[0;34m[\u001b[0m\u001b[0;34m(\u001b[0m\u001b[0md\u001b[0m\u001b[0;34m.\u001b[0m\u001b[0mgender\u001b[0m \u001b[0;34m==\u001b[0m \u001b[0;34m\"Female\"\u001b[0m\u001b[0;34m)\u001b[0m \u001b[0;32mand\u001b[0m \u001b[0;34m(\u001b[0m\u001b[0md\u001b[0m\u001b[0;34m.\u001b[0m\u001b[0mposition_on_screen_high_rating_avg\u001b[0m \u001b[0;34m>\u001b[0m \u001b[0;36m0\u001b[0m\u001b[0;34m)\u001b[0m\u001b[0;34m]\u001b[0m\u001b[0;34m\u001b[0m\u001b[0m\n\u001b[0m",
      "\u001b[0;32m/Users/ancsaaa/anaconda/lib/python2.7/site-packages/pandas/core/generic.pyc\u001b[0m in \u001b[0;36m__nonzero__\u001b[0;34m(self)\u001b[0m\n\u001b[1;32m    674\u001b[0m         raise ValueError(\"The truth value of a {0} is ambiguous. \"\n\u001b[1;32m    675\u001b[0m                          \u001b[0;34m\"Use a.empty, a.bool(), a.item(), a.any() or a.all().\"\u001b[0m\u001b[0;34m\u001b[0m\u001b[0m\n\u001b[0;32m--> 676\u001b[0;31m                          .format(self.__class__.__name__))\n\u001b[0m\u001b[1;32m    677\u001b[0m \u001b[0;34m\u001b[0m\u001b[0m\n\u001b[1;32m    678\u001b[0m     \u001b[0m__bool__\u001b[0m \u001b[0;34m=\u001b[0m \u001b[0m__nonzero__\u001b[0m\u001b[0;34m\u001b[0m\u001b[0m\n",
      "\u001b[0;31mValueError\u001b[0m: The truth value of a Series is ambiguous. Use a.empty, a.bool(), a.item(), a.any() or a.all()."
     ]
    }
   ],
   "source": [
    "d.position_on_screen_high_rating_avg[(d.gender == \"Female\") and (d.position_on_screen_high_rating_avg > 0)]"
   ]
  },
  {
   "cell_type": "code",
   "execution_count": null,
   "metadata": {
    "collapsed": true
   },
   "outputs": [],
   "source": []
  }
 ],
 "metadata": {
  "kernelspec": {
   "display_name": "Python 2",
   "language": "python",
   "name": "python2"
  },
  "language_info": {
   "codemirror_mode": {
    "name": "ipython",
    "version": 2
   },
   "file_extension": ".py",
   "mimetype": "text/x-python",
   "name": "python",
   "nbconvert_exporter": "python",
   "pygments_lexer": "ipython2",
   "version": "2.7.9"
  }
 },
 "nbformat": 4,
 "nbformat_minor": 0
}
