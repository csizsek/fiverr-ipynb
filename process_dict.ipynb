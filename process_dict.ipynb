{
 "cells": [
  {
   "cell_type": "code",
   "execution_count": 62,
   "metadata": {
    "collapsed": false
   },
   "outputs": [
    {
     "name": "stdout",
     "output_type": "stream",
     "text": [
      "Populating the interactive namespace from numpy and matplotlib\n"
     ]
    }
   ],
   "source": [
    "import pandas as pd\n",
    "from pandas import Series, DataFrame\n",
    "import numpy as np\n",
    "from matplotlib import pyplot as plt\n",
    "import json \n",
    "import ast\n",
    "import os\n",
    "%pylab inline\n"
   ]
  },
  {
   "cell_type": "code",
   "execution_count": 94,
   "metadata": {
    "collapsed": false
   },
   "outputs": [],
   "source": [
    "file_list = [e for e in os.listdir('.') if e[-3:] == 'csv']\n",
    "#print file_list\n",
    "projects = {}\n",
    "for f in file_list:\n",
    "    projects[f] = pd.read_csv(f, sep='\\t', index_col=0)\n",
    "projects['fiverrUsersPic_analyze_with_projectposition_ALL.csv'] = pd.concat(projects.values())\n",
    "d = projects[\"fiverrUsersPic_analyze_with_projectposition_ALL.csv\"]"
   ]
  },
  {
   "cell_type": "code",
   "execution_count": 95,
   "metadata": {
    "collapsed": false
   },
   "outputs": [
    {
     "name": "stdout",
     "output_type": "stream",
     "text": [
      "<class 'pandas.core.frame.DataFrame'>\n",
      "Int64Index: 88003 entries, 0 to 6415\n",
      "Data columns (total 32 columns):\n",
      "user_id                           88003 non-null object\n",
      "gender                            88003 non-null object\n",
      "gender_confidence                 88003 non-null float64\n",
      "race                              88003 non-null object\n",
      "race_confidence                   88003 non-null float64\n",
      "age_value                         88003 non-null int64\n",
      "age_range                         88003 non-null int64\n",
      "smiling                           88003 non-null float64\n",
      "category                          88003 non-null object\n",
      "position                          88003 non-null object\n",
      "url                               40736 non-null object\n",
      "gig_categories                    14792 non-null object\n",
      "languages                         86598 non-null object\n",
      "overall_rating                    88003 non-null float64\n",
      "num_reviews                       88003 non-null int64\n",
      "num_projects                      88003 non-null int64\n",
      "country                           87945 non-null object\n",
      "user_level                        6943 non-null object\n",
      "avg_response                      17110 non-null object\n",
      "verified-e_mail                   88003 non-null bool\n",
      "verified_twitter                  88003 non-null bool\n",
      "verified_googleplus               88003 non-null bool\n",
      "verified_facebook                 88003 non-null bool\n",
      "verified_linkdin                  88003 non-null bool\n",
      "member_since                      87915 non-null object\n",
      "recent_delivery                   0 non-null float64\n",
      "profile_image_url                 88003 non-null object\n",
      "gig_subcategories                 14792 non-null object\n",
      "about                             26495 non-null object\n",
      "position_on_screen_high_rating    88003 non-null object\n",
      "position_on_screen_recommended    88003 non-null object\n",
      "position_on_screen_new            88003 non-null object\n",
      "dtypes: bool(5), float64(5), int64(4), object(18)"
     ]
    }
   ],
   "source": [
    "d.info()"
   ]
  },
  {
   "cell_type": "code",
   "execution_count": 96,
   "metadata": {
    "collapsed": false
   },
   "outputs": [
    {
     "data": {
      "text/plain": [
       "0    {692562: 156}\n",
       "1               {}\n",
       "2               {}\n",
       "3               {}\n",
       "4               {}\n",
       "Name: position_on_screen_high_rating, dtype: object"
      ]
     },
     "execution_count": 96,
     "metadata": {},
     "output_type": "execute_result"
    }
   ],
   "source": [
    "# this is what the dictionaries look like\n",
    "d[pd.notnull(d.position_on_screen_high_rating)][:5]['position_on_screen_high_rating']"
   ]
  },
  {
   "cell_type": "code",
   "execution_count": 97,
   "metadata": {
    "collapsed": false
   },
   "outputs": [],
   "source": [
    "# For every user we calculate the average position of their tasks in the file\n",
    "def process_dict(dict_str):\n",
    "    d = ast.literal_eval(dict_str)\n",
    "    if d != {}:\n",
    "        a = [d[k] for k in d.keys() if d[k] != None]\n",
    "        if a == []: \n",
    "            avg = 0\n",
    "        else: \n",
    "            avg = float(sum(a))#/float(len(a))\n",
    "    else:\n",
    "        avg = -1\n",
    "    return avg"
   ]
  },
  {
   "cell_type": "code",
   "execution_count": 98,
   "metadata": {
    "collapsed": false
   },
   "outputs": [],
   "source": [
    "# We create new variables with this average as 3 more columns\n",
    "for d in projects.values():\n",
    "    d['position_on_screen_high_rating_avg'] = d.position_on_screen_high_rating.apply(process_dict)\n",
    "    d['position_on_screen_recommended_avg'] = d.position_on_screen_recommended.apply(process_dict)\n",
    "    d['position_on_screen_new_avg'] = d.position_on_screen_new.apply(process_dict)\n"
   ]
  },
  {
   "cell_type": "code",
   "execution_count": 99,
   "metadata": {
    "collapsed": false
   },
   "outputs": [
    {
     "data": {
      "text/html": [
       "<div style=\"max-height:1000px;max-width:1500px;overflow:auto;\">\n",
       "<table border=\"1\" class=\"dataframe\">\n",
       "  <thead>\n",
       "    <tr style=\"text-align: right;\">\n",
       "      <th></th>\n",
       "      <th>0</th>\n",
       "      <th>1</th>\n",
       "      <th>2</th>\n",
       "      <th>3</th>\n",
       "      <th>4</th>\n",
       "    </tr>\n",
       "  </thead>\n",
       "  <tbody>\n",
       "    <tr>\n",
       "      <th>position_on_screen_high_rating</th>\n",
       "      <td> {11890143: None}</td>\n",
       "      <td> {}</td>\n",
       "      <td> {}</td>\n",
       "      <td> {}</td>\n",
       "      <td> {}</td>\n",
       "    </tr>\n",
       "    <tr>\n",
       "      <th>position_on_screen_recommended</th>\n",
       "      <td>   {11890143: 83}</td>\n",
       "      <td> {}</td>\n",
       "      <td> {}</td>\n",
       "      <td> {}</td>\n",
       "      <td> {}</td>\n",
       "    </tr>\n",
       "    <tr>\n",
       "      <th>position_on_screen_new</th>\n",
       "      <td>               {}</td>\n",
       "      <td> {}</td>\n",
       "      <td> {}</td>\n",
       "      <td> {}</td>\n",
       "      <td> {}</td>\n",
       "    </tr>\n",
       "    <tr>\n",
       "      <th>position_on_screen_high_rating_avg</th>\n",
       "      <td>                0</td>\n",
       "      <td> -1</td>\n",
       "      <td> -1</td>\n",
       "      <td> -1</td>\n",
       "      <td> -1</td>\n",
       "    </tr>\n",
       "    <tr>\n",
       "      <th>position_on_screen_recommended_avg</th>\n",
       "      <td>               83</td>\n",
       "      <td> -1</td>\n",
       "      <td> -1</td>\n",
       "      <td> -1</td>\n",
       "      <td> -1</td>\n",
       "    </tr>\n",
       "    <tr>\n",
       "      <th>position_on_screen_new_avg</th>\n",
       "      <td>               -1</td>\n",
       "      <td> -1</td>\n",
       "      <td> -1</td>\n",
       "      <td> -1</td>\n",
       "      <td> -1</td>\n",
       "    </tr>\n",
       "  </tbody>\n",
       "</table>\n",
       "<p>6 rows × 5 columns</p>\n",
       "</div>"
      ],
      "text/plain": [
       "                                                   0   1   2   3   4\n",
       "position_on_screen_high_rating      {11890143: None}  {}  {}  {}  {}\n",
       "position_on_screen_recommended        {11890143: 83}  {}  {}  {}  {}\n",
       "position_on_screen_new                            {}  {}  {}  {}  {}\n",
       "position_on_screen_high_rating_avg                 0  -1  -1  -1  -1\n",
       "position_on_screen_recommended_avg                83  -1  -1  -1  -1\n",
       "position_on_screen_new_avg                        -1  -1  -1  -1  -1\n",
       "\n",
       "[6 rows x 5 columns]"
      ]
     },
     "execution_count": 99,
     "metadata": {},
     "output_type": "execute_result"
    }
   ],
   "source": [
    "d.icol(slice(29,35))[:5].T"
   ]
  },
  {
   "cell_type": "code",
   "execution_count": 103,
   "metadata": {
    "collapsed": false
   },
   "outputs": [
    {
     "name": "stdout",
     "output_type": "stream",
     "text": [
      "Number of tasks with a non zero position  a-high-rating, b-recommended, c-new :\n",
      "ALL\n",
      " a,3493 b, 7743 c, 2043\n",
      "\n",
      "Animation_and_3D\n",
      " a,699 b, 948 c, 117\n",
      "\n",
      "Banner_Advertising\n",
      " a,430 b, 1065 c, 184\n",
      "\n",
      "Databases\n",
      " a,268 b, 780 c, 223\n",
      "\n",
      "Diet_and_Weight_Loss\n",
      " a,109 b, 551 c, 169\n",
      "\n",
      "Financial_Consulting\n",
      " a,151 b, 470 c, 128\n",
      "\n",
      "Singers_and_Songwriters\n",
      " a,465 b, 1257 c, 214\n",
      "\n",
      "T_Shirts\n",
      " a,427 b, 1497 c, 567\n",
      "\n",
      "Translation\n",
      " a,736 b, 456 c, 252\n",
      "\n",
      "Web_Analytics\n",
      " a,208 b, 719 c, 189\n",
      "\n"
     ]
    }
   ],
   "source": [
    "#number of tasks\n",
    "print \"Number of tasks with a non zero position  a-high-rating, b-recommended, c-new :\"\n",
    "for k in sorted(projects.keys()):\n",
    "    d = projects[k]\n",
    "    print k[44:-4] + \"\\n a,\" + str(len(d.position_on_screen_high_rating_avg[d.position_on_screen_high_rating_avg > 0])) + \" b, \" + str(len(d.position_on_screen_recommended_avg[d.position_on_screen_recommended_avg > 0]))+ \" c, \" + str(len(d.position_on_screen_new_avg[d.position_on_screen_new_avg > 0]))\n",
    "    print\n",
    "    "
   ]
  },
  {
   "cell_type": "code",
   "execution_count": 104,
   "metadata": {
    "collapsed": false
   },
   "outputs": [
    {
     "name": "stdout",
     "output_type": "stream",
     "text": [
      "correlation between POSITION and RATING, (high-rating, recommended, new)\n",
      "ALL\n",
      "0.117865318528\n",
      "0.0424337287143\n",
      "0.070611110566\n",
      "\n",
      "Animation_and_3D\n",
      "0.0453647787949\n",
      "0.0848167988259\n",
      "-0.0261783062343\n",
      "\n",
      "Banner_Advertising\n",
      "0.134530844072\n",
      "5.7224676293e-05\n",
      "0.302691087421\n",
      "\n",
      "Databases\n",
      "0.0631804668433\n",
      "0.164631094697\n",
      "0.124584863946\n",
      "\n",
      "Diet_and_Weight_Loss\n",
      "0.00687162275802\n",
      "0.0317700931901\n",
      "0.0749289925078\n",
      "\n",
      "Financial_Consulting\n",
      "0.0962134152584\n",
      "-0.0485078711263\n",
      "0.157499549429\n",
      "\n",
      "Singers_and_Songwriters\n",
      "0.0238129327092\n",
      "-0.278819293495\n",
      "0.25929981863\n",
      "\n",
      "T_Shirts\n",
      "-0.000596148961235\n",
      "-0.00603690558856\n",
      "0.206271043274\n",
      "\n",
      "Translation\n",
      "-0.0172112799338\n",
      "0.148254619565\n",
      "0.0428959331313\n",
      "\n",
      "Web_Analytics\n",
      "0.075633245774\n",
      "-0.00783965341657\n",
      "0.174068624035\n",
      "\n"
     ]
    }
   ],
   "source": [
    "print \"correlation between POSITION and RATING, (high-rating, recommended, new)\"\n",
    "for k in sorted(projects.keys()):\n",
    "    d = projects[k]\n",
    "    pos_list = [d.position_on_screen_high_rating_avg, d.position_on_screen_recommended_avg, d.position_on_screen_new_avg]\n",
    "    print k[44:-4]\n",
    "    for e in pos_list:\n",
    "        print e[e > 0].corr(d.overall_rating)\n",
    "    print\n"
   ]
  },
  {
   "cell_type": "code",
   "execution_count": 105,
   "metadata": {
    "collapsed": false,
    "scrolled": true
   },
   "outputs": [
    {
     "name": "stdout",
     "output_type": "stream",
     "text": [
      "correlation between POSITION and NUMBER OF REVIEWS, (high-rating, recommended, new)\n",
      "ALL\n",
      "0.00407953036118\n",
      "0.0258231581949\n",
      "0.0169199296778\n",
      "\n",
      "Animation_and_3D\n",
      "-0.108719886835\n",
      "0.03041229118\n",
      "0.0419434556467\n",
      "\n",
      "Banner_Advertising\n",
      "0.123565898012\n",
      "0.202072610186\n",
      "0.132094916784\n",
      "\n",
      "Databases\n",
      "0.130534087177\n",
      "0.120058305386\n",
      "0.166445046343\n",
      "\n",
      "Diet_and_Weight_Loss\n",
      "0.0344198262332\n",
      "0.064088231903\n",
      "0.112590926644\n",
      "\n",
      "Financial_Consulting\n",
      "-0.0563898283073\n",
      "0.00528430692162\n",
      "0.144318012014\n",
      "\n",
      "Singers_and_Songwriters\n",
      "-0.0776305579296\n",
      "-0.0457471486145\n",
      "0.0736008319191\n",
      "\n",
      "T_Shirts\n",
      "-0.0757078284899\n",
      "0.0204768451141\n",
      "-0.00898623921812\n",
      "\n",
      "Translation\n",
      "-0.235346104857\n",
      "0.29349474923\n",
      "0.0688371925201\n",
      "\n",
      "Web_Analytics\n",
      "-0.0480066747051\n",
      "-0.0150534425636\n",
      "-0.113058377312\n",
      "\n"
     ]
    }
   ],
   "source": [
    "print \"correlation between POSITION and NUMBER OF REVIEWS, (high-rating, recommended, new)\"\n",
    "for k in sorted(projects.keys()):\n",
    "    d = projects[k]\n",
    "    pos_list = [d.position_on_screen_high_rating_avg, d.position_on_screen_recommended_avg, d.position_on_screen_new_avg]\n",
    "    print k[44:-4]\n",
    "    for e in pos_list:\n",
    "        print e[e > 0].corr(d.num_reviews) \n",
    "    print"
   ]
  },
  {
   "cell_type": "code",
   "execution_count": 107,
   "metadata": {
    "collapsed": false
   },
   "outputs": [
    {
     "data": {
      "text/plain": [
       "-         396\n",
       "Male      210\n",
       "Female    101\n",
       "dtype: int64"
      ]
     },
     "execution_count": 107,
     "metadata": {},
     "output_type": "execute_result"
    }
   ],
   "source": [
    "d.gender[d.position == 'seller'].value_counts()"
   ]
  },
  {
   "cell_type": "code",
   "execution_count": 117,
   "metadata": {
    "collapsed": false,
    "scrolled": true
   },
   "outputs": [
    {
     "name": "stdout",
     "output_type": "stream",
     "text": [
      "position of FEMALES vs MALES (vs -)\n",
      "ALL\n",
      "289.382352941 260.088235294 290.310179641\n",
      "692.665634675 674.987772926 747.468315617\n",
      "238.132315522 178.384615385 217.926356589\n",
      "\n",
      "Animation_and_3D\n",
      "324.532608696 299.414110429 377.267507003\n",
      "722.631578947 692.054404145 746.844139651\n",
      "152.6 100.04 117.766666667\n",
      "\n",
      "Banner_Advertising\n",
      "341.568181818 230.58974359 246.84423676\n",
      "731.147928994 661.328125 696.045994065\n",
      "82.8095238095 115.321428571 108.634146341\n",
      "\n",
      "Databases\n",
      "170.857142857 144.841584158 162.661870504\n",
      "527.578947368 500.631746032 554.099273608\n",
      "118.176470588 123.213592233 123.269230769\n",
      "\n",
      "Diet_and_Weight_Loss\n",
      "111.391304348 91.725 111.611111111\n",
      "361.535087719 371.076923077 418.178343949\n",
      "99.962962963 72.0 84.7173913043\n",
      "\n",
      "Financial_Consulting\n",
      "102.028571429 78.402173913 96.1857142857\n",
      "433.566666667 344.527607362 438.315625\n",
      "120.366666667 89.3571428571 116.952380952\n",
      "\n",
      "Singers_and_Songwriters\n",
      "275.204081633 297.369047619 314.451178451\n",
      "792.465608466 829.420245399 933.495460441\n",
      "142.4 120.137931034 122.877862595\n",
      "\n",
      "T_Shirts\n",
      "239.7 255.646616541 247.718213058\n",
      "1131.45493562 1217.43103448 1143.71170213\n",
      "467.842105263 393.708333333 431.582872928\n",
      "\n",
      "Translation\n",
      "342.465306122 381.215384615 355.922716628\n",
      "340.551181102 367.544827586 383.299610895\n",
      "277.550561798 234.65 248.7125\n",
      "\n",
      "Web_Analytics\n",
      "150.035714286 131.494382022 156.237704918\n",
      "513.144230769 451.769230769 485.728179551\n",
      "96.3636363636 112.984126984 97.0964912281\n",
      "\n"
     ]
    }
   ],
   "source": [
    "print \"position of FEMALES vs MALES (vs -)\"\n",
    "for k in sorted(projects.keys()):\n",
    "    d = projects[k]\n",
    "    pos_list = [d.position_on_screen_high_rating_avg, d.position_on_screen_recommended_avg, d.position_on_screen_new_avg]\n",
    "    print k[44:-4]\n",
    "    for e in pos_list:\n",
    "        print np.mean(e[np.logical_and((d.gender == \"Female\"),(e !=-1 ))]), np.mean(e[np.logical_and((d.gender == \"Male\"),(e !=-1 ))]), np.mean(e[np.logical_and((d.gender == \"-\"),(e !=-1 ))])\n",
    "    print"
   ]
  },
  {
   "cell_type": "code",
   "execution_count": 110,
   "metadata": {
    "collapsed": false,
    "scrolled": true
   },
   "outputs": [
    {
     "data": {
      "text/plain": [
       "-        396\n",
       "White    251\n",
       "Asian     38\n",
       "Black     22\n",
       "dtype: int64"
      ]
     },
     "execution_count": 110,
     "metadata": {},
     "output_type": "execute_result"
    }
   ],
   "source": [
    "d.race[d.position == 'seller'].value_counts()"
   ]
  },
  {
   "cell_type": "code",
   "execution_count": 116,
   "metadata": {
    "collapsed": false
   },
   "outputs": [
    {
     "name": "stdout",
     "output_type": "stream",
     "text": [
      "position of ASIANS, BLACKS and WHITES\n",
      "ALL\n",
      "307.170212766 228.629807692 269.407476636 290.310179641\n",
      "717.111954459 702.904761905 671.03501506 747.468315617\n",
      "253.481751825 166.247863248 197.215206186 217.926356589\n",
      "\n",
      "Animation_and_3D\n",
      "358.720430108 274.675675676 299.471052632 377.267507003\n",
      "815.673469388 799.980392157 666.878923767 746.844139651\n",
      "139.727272727 160.090909091 105.819277108 117.766666667\n",
      "\n",
      "Banner_Advertising\n",
      "244.290322581 214.2 290.886792453 246.84423676\n",
      "641.358208955 668.822222222 702.223642173 696.045994065\n",
      "109.3 134.555555556 101.603448276 108.634146341\n",
      "\n",
      "Databases\n",
      "149.8125 117.882352941 157.359223301 162.661870504\n",
      "475.222222222 473.619047619 514.014035088 554.099273608\n",
      "118.454545455 134.647058824 120.739130435 123.269230769\n",
      "\n",
      "Diet_and_Weight_Loss\n",
      "47.5 37.8 110.711538462 111.611111111\n",
      "302.666666667 332.551724138 378.634020619 418.178343949\n",
      "84.9090909091 87.5555555556 92.4666666667 84.7173913043\n",
      "\n",
      "Financial_Consulting\n",
      "184.166666667 39.2727272727 82.9032258065 96.1857142857\n",
      "372.928571429 357.05 380.837837838 438.315625\n",
      "204.555555556 59.0833333333 93.3076923077 116.952380952\n",
      "\n",
      "Singers_and_Songwriters\n",
      "353.8125 278.765957447 280.770053476 314.451178451\n",
      "792.0 869.865384615 804.284457478 933.495460441\n",
      "132.818181818 138.869565217 123.677966102 122.877862595\n",
      "\n",
      "T_Shirts\n",
      "231.078947368 231.157894737 256.435897436 247.718213058\n",
      "1189.86538462 1272.04761905 1172.69655172 1143.71170213\n",
      "487.916666667 413.142857143 414.187878788 431.582872928\n",
      "\n",
      "Translation\n",
      "369.433333333 314.785714286 366.085790885 355.922716628\n",
      "359.283018868 470.52173913 340.204081633 383.299610895\n",
      "285.076923077 214.181818182 255.348484848 248.7125\n",
      "\n",
      "Web_Analytics\n",
      "171.0 101.75 133.490196078 156.237704918\n",
      "453.658536585 479.608695652 473.475095785 485.728179551\n",
      "131.75 123.545454545 101.580645161 97.0964912281\n",
      "\n"
     ]
    }
   ],
   "source": [
    "print \"position of ASIANS, BLACKS and WHITES\"\n",
    "for k in sorted(projects.keys()):\n",
    "    d = projects[k]\n",
    "    pos_list = [d.position_on_screen_high_rating_avg, d.position_on_screen_recommended_avg, d.position_on_screen_new_avg]\n",
    "    print k[44:-4]\n",
    "    for e in pos_list:\n",
    "        print np.mean(e[np.logical_and((d.race == \"Asian\"),(e !=-1 ))]), np.mean(e[np.logical_and((d.race == \"Black\"),(e !=-1 ))]), np.mean(e[np.logical_and((d.race == \"White\"),(e !=-1 ))]), np.mean(e[np.logical_and((d.race == \"-\"),(e !=-1 ))])\n",
    "    print    \n"
   ]
  },
  {
   "cell_type": "code",
   "execution_count": null,
   "metadata": {
    "collapsed": false
   },
   "outputs": [],
   "source": []
  },
  {
   "cell_type": "code",
   "execution_count": null,
   "metadata": {
    "collapsed": true
   },
   "outputs": [],
   "source": []
  }
 ],
 "metadata": {
  "kernelspec": {
   "display_name": "Python 2",
   "language": "python",
   "name": "python2"
  },
  "language_info": {
   "codemirror_mode": {
    "name": "ipython",
    "version": 2
   },
   "file_extension": ".py",
   "mimetype": "text/x-python",
   "name": "python",
   "nbconvert_exporter": "python",
   "pygments_lexer": "ipython2",
   "version": "2.7.9"
  }
 },
 "nbformat": 4,
 "nbformat_minor": 0
}
